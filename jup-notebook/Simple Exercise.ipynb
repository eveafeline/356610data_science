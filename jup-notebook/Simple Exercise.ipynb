{
 "cells": [
  {
   "cell_type": "code",
   "execution_count": 1,
   "metadata": {
    "collapsed": true
   },
   "outputs": [],
   "source": [
    "u = [-9, -8, -7, -6, -5, -4, -3, -2, -1, 0,1,2,3,4,5,6,7,8,9]"
   ]
  },
  {
   "cell_type": "code",
   "execution_count": 2,
   "metadata": {
    "collapsed": true
   },
   "outputs": [],
   "source": [
    "# v = [ ((x-1)**2 - x/2 + 1) for x in u ]\n",
    "v = []\n",
    "\n",
    "def func(a):\n",
    "    b = (a-1)**2 - a/2 + 1\n",
    "    return b\n",
    "\n",
    "for i in range(19):\n",
    "    v.append(func(u[i]))\n",
    "#   v.append((u[i]-1)**2 - u[i]/2 + 1)"
   ]
  },
  {
   "cell_type": "code",
   "execution_count": 3,
   "metadata": {},
   "outputs": [
    {
     "data": {
      "text/plain": [
       "[-9, -8, -7, -6, -5, -4, -3, -2, -1, 0, 1, 2, 3, 4, 5, 6, 7, 8, 9]"
      ]
     },
     "execution_count": 3,
     "metadata": {},
     "output_type": "execute_result"
    }
   ],
   "source": [
    "u"
   ]
  },
  {
   "cell_type": "code",
   "execution_count": 4,
   "metadata": {},
   "outputs": [
    {
     "data": {
      "text/plain": [
       "[105.5,\n",
       " 86.0,\n",
       " 68.5,\n",
       " 53.0,\n",
       " 39.5,\n",
       " 28.0,\n",
       " 18.5,\n",
       " 11.0,\n",
       " 5.5,\n",
       " 2.0,\n",
       " 0.5,\n",
       " 1.0,\n",
       " 3.5,\n",
       " 8.0,\n",
       " 14.5,\n",
       " 23.0,\n",
       " 33.5,\n",
       " 46.0,\n",
       " 60.5]"
      ]
     },
     "execution_count": 4,
     "metadata": {},
     "output_type": "execute_result"
    }
   ],
   "source": [
    "v"
   ]
  },
  {
   "cell_type": "code",
   "execution_count": 5,
   "metadata": {
    "collapsed": true
   },
   "outputs": [],
   "source": [
    "import matplotlib.pyplot as plt\n",
    "%matplotlib inline"
   ]
  },
  {
   "cell_type": "code",
   "execution_count": 6,
   "metadata": {},
   "outputs": [
    {
     "data": {
      "image/png": "[encoded data removed]",
      "text/plain": [
       "<matplotlib.figure.Figure at 0x113366be0>"
      ]
     },
     "metadata": {},
     "output_type": "display_data"
    }
   ],
   "source": [
    "plt.plot(u, v)\n",
    "plt.show()"
   ]
  },
  {
   "cell_type": "code",
   "execution_count": 7,
   "metadata": {},
   "outputs": [],
   "source": [
    "for i in range(10):\n",
    "    u[i] = v[i]**2"
   ]
  },
  {
   "cell_type": "code",
   "execution_count": 8,
   "metadata": {},
   "outputs": [
    {
     "data": {
      "text/plain": [
       "[11130.25,\n",
       " 7396.0,\n",
       " 4692.25,\n",
       " 2809.0,\n",
       " 1560.25,\n",
       " 784.0,\n",
       " 342.25,\n",
       " 121.0,\n",
       " 30.25,\n",
       " 4.0,\n",
       " 1,\n",
       " 2,\n",
       " 3,\n",
       " 4,\n",
       " 5,\n",
       " 6,\n",
       " 7,\n",
       " 8,\n",
       " 9]"
      ]
     },
     "execution_count": 8,
     "metadata": {},
     "output_type": "execute_result"
    }
   ],
   "source": [
    "u"
   ]
  },
  {
   "cell_type": "code",
   "execution_count": 9,
   "metadata": {},
   "outputs": [
    {
     "data": {
      "text/plain": [
       "[105.5,\n",
       " 86.0,\n",
       " 68.5,\n",
       " 53.0,\n",
       " 39.5,\n",
       " 28.0,\n",
       " 18.5,\n",
       " 11.0,\n",
       " 5.5,\n",
       " 2.0,\n",
       " 0.5,\n",
       " 1.0,\n",
       " 3.5,\n",
       " 8.0,\n",
       " 14.5,\n",
       " 23.0,\n",
       " 33.5,\n",
       " 46.0,\n",
       " 60.5]"
      ]
     },
     "execution_count": 9,
     "metadata": {},
     "output_type": "execute_result"
    }
   ],
   "source": [
    "v"
   ]
  },
  {
   "cell_type": "code",
   "execution_count": 10,
   "metadata": {},
   "outputs": [
    {
     "data": {
      "image/png": "[encoded data removed]",
      "text/plain": [
       "<matplotlib.figure.Figure at 0x11869ac18>"
      ]
     },
     "metadata": {},
     "output_type": "display_data"
    }
   ],
   "source": [
    "plt.xlabel('v')\n",
    "plt.ylabel('u')\n",
    "plt.title('u vs. v')\n",
    "plt.grid(True)\n",
    "plt.plot(u, v)\n",
    "plt.show()"
   ]
  }
 ],
 "metadata": {
  "kernelspec": {
   "display_name": "Python 3",
   "language": "python",
   "name": "python3"
  },
  "language_info": {
   "codemirror_mode": {
    "name": "ipython",
    "version": 3
   },
   "file_extension": ".py",
   "mimetype": "text/x-python",
   "name": "python",
   "nbconvert_exporter": "python",
   "pygments_lexer": "ipython3",
   "version": "3.6.2"
  }
 },
 "nbformat": 4,
 "nbformat_minor": 2
}
