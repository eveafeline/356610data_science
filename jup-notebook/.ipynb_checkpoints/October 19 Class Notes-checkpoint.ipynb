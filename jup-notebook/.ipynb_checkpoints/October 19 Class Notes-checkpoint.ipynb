{
 "cells": [
  {
   "cell_type": "markdown",
   "metadata": {
    "collapsed": true
   },
   "source": [
    "# October 19, 2017 Class Note\n",
    "\n",
    "### Outline\n",
    "- Audiodata\n",
    "- Linear Regression\n",
    "- Project\n",
    "- Next Session\n",
    "\n",
    "#### Linear Regression [https://en.wikipedia.org/wiki/Linear_regression]\n",
    "1. First question to ask is what line is the best line? What line do you want?\n",
    "2. \n",
    "\n"
   ]
  },
  {
   "cell_type": "markdown",
   "metadata": {},
   "source": [
    "* Article : Forget Killer Robots - Bias Is the Real AI Danger [https://www.technologyreview.com/s/608986/forget-killer-robotsbias-is-the-real-ai-danger/]"
   ]
  }
 ],
 "metadata": {
  "kernelspec": {
   "display_name": "Python 3",
   "language": "python",
   "name": "python3"
  },
  "language_info": {
   "codemirror_mode": {
    "name": "ipython",
    "version": 3
   },
   "file_extension": ".py",
   "mimetype": "text/x-python",
   "name": "python",
   "nbconvert_exporter": "python",
   "pygments_lexer": "ipython3",
   "version": "3.6.2"
  }
 },
 "nbformat": 4,
 "nbformat_minor": 2
}
