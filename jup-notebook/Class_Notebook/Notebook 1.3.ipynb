{
 "cells": [
  {
   "cell_type": "code",
   "execution_count": 16,
   "metadata": {},
   "outputs": [
    {
     "name": "stdout",
     "output_type": "stream",
     "text": [
      "2\n3\n5\n7\n11\n13\n17\n19\n"
     ]
    }
   ],
   "source": [
    "# Example 1.1: functions\n",
    "# Define a function isPrime which check if a number is prime or not.\n",
    "# if the num is prime print the num\n",
    "# print all the prime numbers from 2-20 using this function\n",
    "\n",
    "def isPrime(num):\n",
    "    prime = True\n",
    "    for i in range(2,num):\n",
    "        if(num%i == 0):\n",
    "            prime = False\n",
    "    if(prime):\n",
    "        print(num)\n",
    "\n",
    "for i in range(2,21):\n",
    "    isPrime(i)"
   ]
  },
  {
   "cell_type": "code",
   "execution_count": 20,
   "metadata": {},
   "outputs": [
    {
     "name": "stdout",
     "output_type": "stream",
     "text": [
      "Inside the function ['apple', 'orange', 1, 2]\nAfter function call ['apple', 'orange', 1, 2]\n"
     ]
    }
   ],
   "source": [
    "#Example 1.2: Function (Pass by Reference)\n",
    "#Create a function which appends the values 1 and 2 to the list passed. \n",
    "#Print the list inside the function and right after function call \n",
    "\n",
    "def updateList(listParm):\n",
    "    listParm.append(1)\n",
    "    listParm.append(2)\n",
    "    print(\"Inside the function\",listParm)\n",
    "\n",
    "myList= ['apple','orange']\n",
    "updateList(myList)\n",
    "print(\"After function call\",myList)"
   ]
  },
  {
   "cell_type": "code",
   "execution_count": 22,
   "metadata": {},
   "outputs": [
    {
     "name": "stdout",
     "output_type": "stream",
     "text": [
      "a: 1\nb: 2\na: 2\nb: 1\n"
     ]
    }
   ],
   "source": [
    "#Example 1.3 : Keyword arguments\n",
    "def printNumbers(a,b):\n",
    "    print('a:',a)\n",
    "    print('b:',b)\n",
    "\n",
    "x=1\n",
    "y=2\n",
    "printNumbers(x,y)\n",
    "printNumbers(b =x , a=y) #Note order has been changed"
   ]
  },
  {
   "cell_type": "code",
   "execution_count": 25,
   "metadata": {},
   "outputs": [
    {
     "name": "stdout",
     "output_type": "stream",
     "text": [
      "Call 1\na: 1\nb: 2\nCall 2\na: 3\nb: 2\nCall 3\na: 1\nb: 6\nCall 4\na: 7\nb: 8\n"
     ]
    }
   ],
   "source": [
    "#Example 1.4 : Default arguments\n",
    "def printNumbers(a=1,b=2):\n",
    "    print('a:',a)\n",
    "    print('b:',b)\n",
    "\n",
    "print('Call 1')\n",
    "printNumbers()\n",
    "print('Call 2')\n",
    "printNumbers(a=3)\n",
    "print('Call 3')\n",
    "printNumbers(b=6)\n",
    "print('Call 4')\n",
    "printNumbers(a=7,b=8)"
   ]
  },
  {
   "cell_type": "code",
   "execution_count": 26,
   "metadata": {},
   "outputs": [
    {
     "name": "stdout",
     "output_type": "stream",
     "text": [
      "9\n13\n"
     ]
    }
   ],
   "source": [
    "#Example 1.5 : Return Statement\n",
    "#create a function which returns the sum of two numbers passed\n",
    "\n",
    "def calculateSum(a,b):\n",
    "    return(a+b)\n",
    "\n",
    "answer = calculateSum(4,5)\n",
    "print(answer)\n",
    "\n",
    "print(calculateSum(6,7))"
   ]
  },
  {
   "cell_type": "code",
   "execution_count": 27,
   "metadata": {},
   "outputs": [
    {
     "name": "stdout",
     "output_type": "stream",
     "text": [
      "Inside the function local total :  30\nOutside the function global total :  0\n"
     ]
    }
   ],
   "source": [
    "#Example 1.6 : Local variable vs global variable\n",
    "\n",
    "total = 0;  #global variable\n",
    "def calculateSum( a, b ):\n",
    "   total = a + b #local variable\n",
    "   print(\"Inside the function local total : \", total)\n",
    "   return total\n",
    "\n",
    "\n",
    "calculateSum( 10, 20 )\n",
    "print(\"Outside the function global total : \", total)"
   ]
  },
  {
   "cell_type": "code",
   "execution_count": 39,
   "metadata": {},
   "outputs": [],
   "source": [
    "#Example 2: Modules : import\n",
    "# A module can simply be a file with python code, which we can use in our source file \n",
    "# For this we use the keyword 'import'\n",
    "# This helps in better organising our code \n",
    "# we can import inbuilt packages or a file created by us"
   ]
  },
  {
   "cell_type": "code",
   "execution_count": 41,
   "metadata": {},
   "outputs": [
    {
     "name": "stdout",
     "output_type": "stream",
     "text": [
      "{1, 2, 3}\n{'Hello', (1, 2, 3), 7.9}\n"
     ]
    }
   ],
   "source": [
    "#Example 3.1: sets\n",
    "set1 = {1, 2, 3}\n",
    "print(set1)\n",
    "\n",
    "set2 = {7.9, \"Hello\", (1, 2, 3)}\n",
    "print(set2)"
   ]
  },
  {
   "cell_type": "code",
   "execution_count": 46,
   "metadata": {},
   "outputs": [
    {
     "name": "stdout",
     "output_type": "stream",
     "text": [
      "<class 'set'>\n{'b', 3.0, 'sd', 'apple'}\n{'b', 1, 3.0, 4, 5, 6, 8, 'apple', 'sd'}\n"
     ]
    }
   ],
   "source": [
    "#Example 3.2 : sets\n",
    "a = set()\n",
    "print(type(a))\n",
    "a.add('apple')\n",
    "a.add('b')\n",
    "a.add(3.0)\n",
    "a.add('sd')\n",
    "\n",
    "print(a)\n",
    "a.update([4,5], {1,6,8})\n",
    "\n",
    "print(a)"
   ]
  },
  {
   "cell_type": "code",
   "execution_count": 49,
   "metadata": {},
   "outputs": [
    {
     "name": "stdout",
     "output_type": "stream",
     "text": [
      "{1, 2, 3, 4, 5, 6, 7, 8}\n{1, 2, 3, 4, 5, 6, 7, 8}\n"
     ]
    }
   ],
   "source": [
    "#Example 3.3 : Sets : Union \n",
    "A = {1, 2, 3, 4, 5}\n",
    "B = {4, 5, 6, 7, 8}\n",
    "\n",
    "#union \n",
    "print(A | B)\n",
    "print(A.union(B))"
   ]
  },
  {
   "cell_type": "code",
   "execution_count": 50,
   "metadata": {},
   "outputs": [
    {
     "name": "stdout",
     "output_type": "stream",
     "text": [
      "{4, 5}\n{4, 5}\n"
     ]
    }
   ],
   "source": [
    "#Example 3.4 : Sets : Intersection \n",
    "A = {1, 2, 3, 4, 5}\n",
    "B = {4, 5, 6, 7, 8}\n",
    "\n",
    "print(A&B)\n",
    "print(A.intersection(B))"
   ]
  },
  {
   "cell_type": "code",
   "execution_count": 51,
   "metadata": {},
   "outputs": [
    {
     "name": "stdout",
     "output_type": "stream",
     "text": [
      "{1, 2, 3}\n{8, 6, 7}\n{1, 2, 3}\n"
     ]
    }
   ],
   "source": [
    "#Example 3.5 : Sets : Difference \n",
    "A = {1, 2, 3, 4, 5}\n",
    "B = {4, 5, 6, 7, 8}\n",
    "\n",
    "print(A-B)\n",
    "print(B-A)\n",
    "print(A.difference(B))"
   ]
  },
  {
   "cell_type": "code",
   "execution_count": 57,
   "metadata": {},
   "outputs": [
    {
     "name": "stdout",
     "output_type": "stream",
     "text": [
      "normal argument Alison\nvalues through *args : John\nnormal argument Alison\nvalues through *args : Katie\nnormal argument Alison\nvalues through *args : Hummer\n"
     ]
    }
   ],
   "source": [
    "#Example 4.1: *args and *kwargs \n",
    "# they allow us to pass variable number of arguments to a function\n",
    "\n",
    "def printNames(a,*args):\n",
    "    for arg in args:\n",
    "        print(\"normal argument\", a)\n",
    "        print(\"values through *args :\", arg)\n",
    "\n",
    "printNames('Alison','John','Katie','Hummer')\n",
    "printNames('jolly')"
   ]
  },
  {
   "cell_type": "code",
   "execution_count": 69,
   "metadata": {},
   "outputs": [
    {
     "name": "stdout",
     "output_type": "stream",
     "text": [
      "formal arg: 1\nkwargs: key: Apple  value: two\nkwargs: key: Mango  value: 3\n"
     ]
    }
   ],
   "source": [
    "#Example 4.2: *args and *kwargs \n",
    "def printValues(a, **kwargs):\n",
    "    print (\"formal arg:\", a)\n",
    "    for key in kwargs:\n",
    "        print (\"kwargs: key: %s  value: %s\" % (key, kwargs[key]))\n",
    "\n",
    "printValues(1, Apple=\"two\", Mango=3)"
   ]
  },
  {
   "cell_type": "code",
   "execution_count": 77,
   "metadata": {},
   "outputs": [
    {
     "name": "stdout",
     "output_type": "stream",
     "text": [
      "Hello! Your code is working! \n This is an example\n"
     ]
    }
   ],
   "source": [
    "#Example 5: Reading from files\n",
    "file = open(\"sample1.txt\",\"w\")\n",
    "file.write(\"Hello! Your code is working! \\n This is an example\")\n",
    "file.close()\n",
    "file = open(\"sample1.txt\",\"r\")\n",
    "str =file.read()\n",
    "print(str)\n",
    "\n",
    "# verify if a file was created in the directory"
   ]
  },
  {
   "cell_type": "code",
   "execution_count": 78,
   "metadata": {},
   "outputs": [
    {
     "name": "stdout",
     "output_type": "stream",
     "text": [
      "task completed successfully\n"
     ]
    }
   ],
   "source": [
    "#Example 6: Exception Handling\n",
    "try:\n",
    "   file = open(\"sample2.txt\", \"w\")\n",
    "   file.write(\"sample2!!\")\n",
    "except IOError:\n",
    "   print(\"Error occured while writing to file.\")\n",
    "else:\n",
    "   print(\"task completed successfully\")\n",
    "   file.close()"
   ]
  },
  {
   "cell_type": "code",
   "execution_count": 79,
   "metadata": {},
   "outputs": [],
   "source": [
    ""
   ]
  },
  {
   "cell_type": "code",
   "execution_count": null,
   "metadata": {},
   "outputs": [],
   "source": [
    ""
   ]
  }
 ],
 "metadata": {
  "kernelspec": {
   "display_name": "Python 2",
   "language": "python",
   "name": "python2"
  },
  "language_info": {
   "codemirror_mode": {
    "name": "ipython",
    "version": 2.0
   },
   "file_extension": ".py",
   "mimetype": "text/x-python",
   "name": "python",
   "nbconvert_exporter": "python",
   "pygments_lexer": "ipython2",
   "version": "2.7.6"
  }
 },
 "nbformat": 4,
 "nbformat_minor": 0
}