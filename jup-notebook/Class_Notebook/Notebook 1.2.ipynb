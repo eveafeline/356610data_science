{
 "cells": [
  {
   "cell_type": "code",
   "execution_count": 9,
   "metadata": {
    "collapsed": true
   },
   "outputs": [
    {
     "name": "stdout",
     "output_type": "stream",
     "text": [
      "Apple found\nHello\n"
     ]
    }
   ],
   "source": [
    "#Example 1.1: Decision Statements - if\n",
    "#Supppose you need to print values based on a particular condition\n",
    "# For eg :A the variable can hold the name of a fruit. If the value is apple. You need to print apple found.\n",
    "# For this we use if statement \n",
    "\n",
    "fruit = 'apple'\n",
    "if(fruit == 'apple'):\n",
    "    print('Apple found')\n",
    "print('Hello')\n",
    "\n",
    "#Now try changing the value of fruit and see if the print statement is executed\n",
    "#Note: the print statement is indented\n",
    "#Python provides no braces to indicate blocks of code.\n",
    "#Blocks of code are denoted by line indentation, which is rigidly enforced.\n",
    "#All statements within the block must be indented the same amount.\n",
    "\n",
    "#To understand this better see the next example"
   ]
  },
  {
   "cell_type": "code",
   "execution_count": 10,
   "metadata": {},
   "outputs": [
    {
     "name": "stdout",
     "output_type": "stream",
     "text": [
      "Hello\n"
     ]
    }
   ],
   "source": [
    "#Example 1.2  : Indentation and white space\n",
    "fruit = 'appl'\n",
    "if(fruit == 'apple'):\n",
    "    print('Apple found')\n",
    "print('Hello')\n",
    "\n",
    "#Note the second print statement is executed because\n",
    "#it is not in the block of statements for if\n"
   ]
  },
  {
   "cell_type": "code",
   "execution_count": 11,
   "metadata": {},
   "outputs": [
    {
     "name": "stdout",
     "output_type": "stream",
     "text": [
      "Apple not found\n"
     ]
    }
   ],
   "source": [
    "#Example 1.3: Suppose in the example above we want to print 'apple not found',\n",
    "#if the fruit is not apple. We use Else statement\n",
    "\n",
    "if(fruit == 'apple'):\n",
    "    print('Apple found')\n",
    "else:\n",
    "    print('Apple not found')"
   ]
  },
  {
   "cell_type": "code",
   "execution_count": 37,
   "metadata": {},
   "outputs": [
    {
     "name": "stdout",
     "output_type": "stream",
     "text": [
      "200\n"
     ]
    }
   ],
   "source": [
    "#Example 1.4: Imagine we are calculating the tax for a person.\n",
    "#As we know there can be different tax slabs\n",
    "#for this we use elif \n",
    "\n",
    "salary = 10000\n",
    "tax = 0.0\n",
    "if(salary < 10000):\n",
    "    tax = 100\n",
    "elif(salary >= 10000 and salary <20000):   \n",
    "    tax = 200\n",
    "elif(salary >= 20000 and salary < 30000):\n",
    "    tax = 300\n",
    "else:\n",
    "    tax = 400\n",
    " \n",
    "print(tax)\n",
    "\n",
    "#try changing the value for salary and see what the tax is calculated as"
   ]
  },
  {
   "cell_type": "code",
   "execution_count": 38,
   "metadata": {},
   "outputs": [
    {
     "name": "stdout",
     "output_type": "stream",
     "text": [
      "apple\napple\napple\napple\napple\n"
     ]
    }
   ],
   "source": [
    "# Example 2 : Loops\n",
    "# Loops are repetition structures. For example if we need to print 'apple' 5 times.\n",
    "# We can use 5 print statements for this as below:\n",
    "\n",
    "print('apple')\n",
    "print('apple')\n",
    "print('apple')\n",
    "print('apple')\n",
    "print('apple')\n",
    "\n",
    "#or we can use loops. In the example below we will use a for and while loop to do the same."
   ]
  },
  {
   "cell_type": "code",
   "execution_count": 15,
   "metadata": {},
   "outputs": [
    {
     "name": "stdout",
     "output_type": "stream",
     "text": [
      "apple\napple\napple\napple\napple\n"
     ]
    }
   ],
   "source": [
    "#Example 2.1: For loop\n",
    "for num in range(0,5):\n",
    "    print('apple')"
   ]
  },
  {
   "cell_type": "code",
   "execution_count": 17,
   "metadata": {},
   "outputs": [
    {
     "name": "stdout",
     "output_type": "stream",
     "text": [
      "1\n2\n3\n4\n5\n6\n7\n8\n9\n10\n"
     ]
    }
   ],
   "source": [
    "#Example 2.2 : Print numbers from 1 to 10 using for loop\n",
    "for num in range(1,11):\n",
    "    print(num)"
   ]
  },
  {
   "cell_type": "code",
   "execution_count": 18,
   "metadata": {},
   "outputs": [
    {
     "name": "stdout",
     "output_type": "stream",
     "text": [
      "apple\napple\napple\napple\napple\n"
     ]
    }
   ],
   "source": [
    "# example 2.3: We will do the same things using a while loop now\n",
    "num = 0\n",
    "while(num < 5):\n",
    "    print('apple')\n",
    "    num = num +1"
   ]
  },
  {
   "cell_type": "code",
   "execution_count": 20,
   "metadata": {},
   "outputs": [
    {
     "name": "stdout",
     "output_type": "stream",
     "text": [
      "1\n2\n3\n4\n5\n6\n7\n8\n9\n10\n"
     ]
    }
   ],
   "source": [
    "# example 2.4: while loop : print the numbers 1 to 10\n",
    "num = 1\n",
    "while(num <= 10):\n",
    "    print(num)\n",
    "    num = num +1"
   ]
  },
  {
   "cell_type": "code",
   "execution_count": 22,
   "metadata": {},
   "outputs": [
    {
     "name": "stdout",
     "output_type": "stream",
     "text": [
      "1\n2\n3\n4\n5\n6\n7\n8\n9\n10\nwe are outside!\n"
     ]
    }
   ],
   "source": [
    "# example 2.5 : we can use else statements with if loops\n",
    "num = 1\n",
    "while(num <= 10):\n",
    "    print(num)\n",
    "    num = num +1\n",
    "else:\n",
    "    print('we are outside!')"
   ]
  },
  {
   "cell_type": "code",
   "execution_count": 23,
   "metadata": {},
   "outputs": [
    {
     "name": "stdout",
     "output_type": "stream",
     "text": [
      "John\nSue\nKaren\nAdian\n"
     ]
    }
   ],
   "source": [
    "# example 2.6 : Use for loop while iterating over a list\n",
    "names = ['John', 'Sue','Karen','Adian']\n",
    "for index in range(len(names)):\n",
    "    print(names[index])"
   ]
  },
  {
   "cell_type": "code",
   "execution_count": 25,
   "metadata": {},
   "outputs": [
    {
     "name": "stdout",
     "output_type": "stream",
     "text": [
      "A\np\np\nl\ne\n"
     ]
    }
   ],
   "source": [
    "# example 2.7 : use for loop to print the letters in a string\n",
    "for letter in 'Apple':     \n",
    "   print(letter)"
   ]
  },
  {
   "cell_type": "code",
   "execution_count": 29,
   "metadata": {},
   "outputs": [
    {
     "name": "stdout",
     "output_type": "stream",
     "text": [
      "\n1\n22\n333\n4444\n55555\n666666\n7777777\n88888888\n999999999\n"
     ]
    }
   ],
   "source": [
    "#Example 3.1: Nested Loops\n",
    "count = 1\n",
    "for i in range(1,10):\n",
    "    for j in range(1, i+1):\n",
    "        print(i, end='')\n",
    "    print()"
   ]
  },
  {
   "cell_type": "code",
   "execution_count": 36,
   "metadata": {},
   "outputs": [
    {
     "name": "stdout",
     "output_type": "stream",
     "text": [
      "2\n3\n5\n7\n11\n13\n17\n19\n"
     ]
    }
   ],
   "source": [
    "#Example 3.2 : Find all prime numbers between 2 to 20 and print them \n",
    "\n",
    "for num in range(2,21):\n",
    "    prime = True\n",
    "    for i in range(2,num):\n",
    "        if(num%i == 0):\n",
    "            prime = False\n",
    "    if(prime):\n",
    "        print(num)\n",
    "        \n",
    "# try doing the same using a while loop"
   ]
  },
  {
   "cell_type": "code",
   "execution_count": null,
   "metadata": {},
   "outputs": [],
   "source": [
    ""
   ]
  }
 ],
 "metadata": {
  "kernelspec": {
   "display_name": "Python 2",
   "language": "python",
   "name": "python2"
  },
  "language_info": {
   "codemirror_mode": {
    "name": "ipython",
    "version": 2.0
   },
   "file_extension": ".py",
   "mimetype": "text/x-python",
   "name": "python",
   "nbconvert_exporter": "python",
   "pygments_lexer": "ipython2",
   "version": "2.7.6"
  }
 },
 "nbformat": 4,
 "nbformat_minor": 0
}