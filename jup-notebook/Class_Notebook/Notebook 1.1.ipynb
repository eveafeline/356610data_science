{
 "cells": [
  {
   "cell_type": "code",
   "execution_count": 2,
   "metadata": {
    "collapsed": true
   },
   "outputs": [
    {
     "name": "stdout",
     "output_type": "stream",
     "text": [
      "Hello World\n"
     ]
    }
   ],
   "source": [
    "#Note before you get started that the version of python is as per our \n",
    "#installation instructions. You may face issues otherwise\n",
    "\n",
    "#example 1.1 : Print a simple text (\"hello World\") and comments in python\n",
    "\n",
    "print(\"Hello World!\")\n",
    "\n",
    "# print(\"Apple\")\n",
    "# Note \"#\" is used for commenting in python\n",
    "# Try printing Apple by uncommenting the print statement above"
   ]
  },
  {
   "cell_type": "code",
   "execution_count": 6,
   "metadata": {},
   "outputs": [
    {
     "name": "stdout",
     "output_type": "stream",
     "text": [
      "100\n1000.1\nEconomics\n"
     ]
    }
   ],
   "source": [
    "#Example 2: Variables \n",
    "\n",
    "\n",
    "#Variables are nothing but reserved memory locations to store values\n",
    "#We do not require explicit declarations within python\n",
    "#The equal sign (=) is used to assign values to variables.\n",
    "\n",
    "#Example 2.1 : Variable Assignment \n",
    "counter = 100          # An integer assignment\n",
    "amount  = 1000.1       # A floating point \n",
    "subject    = \"Economics\"       # A string\n",
    "\n",
    "print(counter)\n",
    "print(amount)\n",
    "print(subject)"
   ]
  },
  {
   "cell_type": "code",
   "execution_count": 1,
   "metadata": {},
   "outputs": [
    {
     "name": "stdout",
     "output_type": "stream",
     "text": [
      "10\n30\n"
     ]
    }
   ],
   "source": [
    "#Example 2.2: Assign a value of 10 to a variable 'ap'. Print the vaue of 'ap'\n",
    "ap = 10\n",
    "print(ap)\n",
    "#change the value of ap to 30. Print the value of 'ap'\n",
    "ap = 30\n",
    "print(ap)"
   ]
  },
  {
   "cell_type": "code",
   "execution_count": 14,
   "metadata": {},
   "outputs": [
    {
     "name": "stdout",
     "output_type": "stream",
     "text": [
      "10\napple\n"
     ]
    }
   ],
   "source": [
    "#Example 2.3: Assign a value of 10 to a variable 'ap'. Print the vaue of 'ap'\n",
    "ap = 10\n",
    "print(ap)\n",
    "#change the value of 'ap' to a string value of apple. Print the value of 'ap'\n",
    "#think - can the same variable hold different data types? will this give an error?\n",
    "ap = \"apple\"\n",
    "print(ap)\n",
    "# More on data types later"
   ]
  },
  {
   "cell_type": "code",
   "execution_count": 16,
   "metadata": {},
   "outputs": [
    {
     "name": "stdout",
     "output_type": "stream",
     "text": [
      "5\n5\n5\n"
     ]
    }
   ],
   "source": [
    "#Example 2.4 : Multiple Assignment \n",
    "# Python allows you to assign a single value to several variables simultaneously\n",
    "\n",
    "#Assign the value of 5 to variables a,b,c simultaneously \n",
    "a = b = c = 5\n",
    "\n",
    "#Print the value of all variables\n",
    "print(a)\n",
    "print(b)\n",
    "print(c)"
   ]
  },
  {
   "cell_type": "code",
   "execution_count": 23,
   "metadata": {},
   "outputs": [
    {
     "name": "stdout",
     "output_type": "stream",
     "text": [
      "Hello World!\nH\nllo\nHello World!Hello World!Hello World!\nHello World!How are you\nHello World!string concatenation example\n"
     ]
    }
   ],
   "source": [
    "#Example 3: Data Types\n",
    "# Python has five standard data types\n",
    "# Numbers, Strings, List, Tuple , Dictonary \n",
    "\n",
    "\n",
    "#Example 3.1: String Type \n",
    "strExmp = 'Hello World!'\n",
    "all = \"string concatenation example\"\n",
    "\n",
    "# Print complete string (strExmp)\n",
    "print(strExmp) \n",
    "# Print first character of the string\n",
    "print(strExmp[0])  \n",
    " # Print characters starting from 3rd to 5th\n",
    "print(strExmp[2:5]) \n",
    "# Print string three times\n",
    "print(strExmp * 3)   \n",
    "# Print concatenated string\n",
    "print(strExmp + \"How are you\") \n",
    "# print the concatenated two string variables (strExmp and all)\n",
    "print(strExmp + all)"
   ]
  },
  {
   "cell_type": "code",
   "execution_count": 30,
   "metadata": {},
   "outputs": [
    {
     "name": "stdout",
     "output_type": "stream",
     "text": [
      "['Apple', 4, 4.0, 'Orange', 77, 82]\nApple\n[4, 4.0]\n[4.0, 'Orange', 77, 82]\n[100, 'Mango', 100, 100, 'Mango', 100]\n['Apple', 4, 4.0, 'Orange', 77, 82, 100, 'Mango', 100]\n['Cat', 4, 4.0, 'Orange', 77, 82]\n[100, 'Mango', 100, 'Cool']\n['Mango', 100, 'Cool']\n"
     ]
    }
   ],
   "source": [
    "#Example 3.2: List Type \n",
    "\n",
    "exmList1 = [ 'Apple', 4 , 4.0, 'Orange', 77, 82 ]\n",
    "exmpList2 = [100, 'Mango',100]\n",
    "\n",
    "# Print complete list exmList1\n",
    "print(exmList1)   \n",
    "# Print first element of the list\n",
    "print(exmList1[0]) \n",
    "#Print elements starting from 2nd till 3rd \n",
    "print(exmList1[1:3])    \n",
    "# Print elements starting from 3rd element\n",
    "print(exmList1[2:])   \n",
    "# Prints list two times (exmpList2)\n",
    "print(exmpList2 * 2) \n",
    "# Print concatenated lists (exmList1 and exmpList2)\n",
    "print(exmList1 + exmpList2)\n",
    "\n",
    "#update exmList1 1st value to 'Cat' and print it\n",
    "exmList1[0] = 'Cat'\n",
    "print(exmList1)\n",
    "\n",
    "#Add a new value - 'Cool' to exmpList2 and print it\n",
    "exmpList2.append('Cool')\n",
    "print(exmpList2)\n",
    "\n",
    "#remove the value 1 from exmpList2\n",
    "exmpList2.remove(100)\n",
    "print(exmpList2)\n",
    "#Note the first occurance of the value is removed and not all \n",
    "\n",
    "\n",
    "#Try playing around with other list functions : sort, reverse, index , counts"
   ]
  },
  {
   "cell_type": "code",
   "execution_count": 31,
   "metadata": {},
   "outputs": [
    {
     "name": "stdout",
     "output_type": "stream",
     "text": [
      "('Apple', 4, 4.0, 'Orange', 77, 82)\nApple\n(4, 4.0)\n(4.0, 'Orange', 77, 82)\n(100, 'Mango', 100, 100, 'Mango', 100)\n('Apple', 4, 4.0, 'Orange', 77, 82, 100, 'Mango', 100)\n"
     ]
    }
   ],
   "source": [
    "#Example 3.3 : Tuple Type \n",
    "#Tuples can be thought of as read-only lists. i.e. They cannot be updated\n",
    "\n",
    "tupleExmp = ( 'Apple', 4 , 4.0, 'Orange', 77, 82 )\n",
    "tupleExmp2 = (100, 'Mango',100)\n",
    "\n",
    "# Print complete list (tupleExmp)\n",
    "print(tupleExmp) \n",
    "# Print first element of the list\n",
    "print(tupleExmp[0])  \n",
    " # Print elements starting from 2nd till 3rd \n",
    "print(tupleExmp[1:3])     \n",
    " # Print elements starting from 3rd element\n",
    "print(tupleExmp[2:]) \n",
    "# Print list two times (tupleExmp2)\n",
    "print(tupleExmp2 * 2)  \n",
    "# Print concatenated lists (tupleExmp2, tupleExmp)\n",
    "print(tupleExmp + tupleExmp2) \n",
    "\n",
    "# Trying updating a tuple and see if you get an error"
   ]
  },
  {
   "cell_type": "code",
   "execution_count": 5,
   "metadata": {},
   "outputs": [
    {
     "name": "stdout",
     "output_type": "stream",
     "text": [
      "This is one\nThis is two\n{'name': 'john', 'code': 6734, 'dept': 'sales'}\ndict_keys(['name', 'code', 'dept'])\ndict_values(['john', 6734, 'sales'])\n"
     ]
    }
   ],
   "source": [
    "# Example 3.4 : Dictonary Type \n",
    "dictExp = {}\n",
    "dictExp['one'] = \"This is one\"\n",
    "dictExp[2]     = \"This is two\"\n",
    "\n",
    "dictExp2 = {'name': 'john','code':6734, 'dept': 'sales'}\n",
    "\n",
    "#Print the value for the key 'one' in dictExp\n",
    "print(dictExp['one'])  \n",
    "#Print the value for the key 2 in dict\n",
    "print(dictExp[2])    \n",
    "# Print complete dictionary - dictExp2\n",
    "print(dictExp2)\n",
    "# Print all the keys for dictExp2\n",
    "print(dictExp2.keys())  \n",
    "# Print all the values for dictExp2\n",
    "print(dictExp2.values())"
   ]
  },
  {
   "cell_type": "code",
   "execution_count": 47,
   "metadata": {},
   "outputs": [
    {
     "name": "stdout",
     "output_type": "stream",
     "text": [
      "a+b : 30\na-b : -10\na*b : 200\na/b : 0.5\na%b : 10\n2 to the power 4 : 16\n"
     ]
    }
   ],
   "source": [
    "#Example 4 : Arithmetic Operations \n",
    "a = 10\n",
    "b = 20\n",
    "\n",
    "#Example 4.1 : Addition\n",
    "print(\"a+b :\",a+b)\n",
    "\n",
    "#Example 4.2: Subtraction\n",
    "print(\"a-b :\",a-b)\n",
    "\n",
    "#Example 4.3: Multiplication\n",
    "print(\"a*b :\",a*b)\n",
    "\n",
    "#Example 4.4 : Division\n",
    "print(\"a/b :\",a/b)\n",
    "\n",
    "#Example 4.5 : Modulus\n",
    "print(\"a%b :\", a%b)\n",
    "\n",
    "#Example 4.6 : Exponent\n",
    "print(\"2 to the power 4 :\" ,2**4)"
   ]
  },
  {
   "cell_type": "code",
   "execution_count": 45,
   "metadata": {},
   "outputs": [
    {
     "name": "stdout",
     "output_type": "stream",
     "text": [
      "a==b False\na==c True\na!=b True\na!=c False\na>c False\na>=c True\na<b True\n"
     ]
    }
   ],
   "source": [
    "#Example 5 : Comparision Operators\n",
    "a = 10\n",
    "b = 20\n",
    "c = 10\n",
    "\n",
    "#Example 5.1 : ==\n",
    "print(\"a==b : \", a==b)\n",
    "print(\"a==c :\",a==c) \n",
    "\n",
    "#Example 5.2: !=\n",
    "print(\"a!=b :\",a!=b)\n",
    "print(\"a!=c :\", a!=c)\n",
    "\n",
    "#Example 5.3 : Greater than, less than, greather than equal to\n",
    "print(\"a>c :\", (a>c))\n",
    "print(\"a>=c :\", a>=c)\n",
    "print(\"a<b :\", a<b)"
   ]
  },
  {
   "cell_type": "code",
   "execution_count": null,
   "metadata": {},
   "outputs": [],
   "source": [
    ""
   ]
  }
 ],
 "metadata": {
  "kernelspec": {
   "display_name": "Python 2",
   "language": "python",
   "name": "python2"
  },
  "language_info": {
   "codemirror_mode": {
    "name": "ipython",
    "version": 2.0
   },
   "file_extension": ".py",
   "mimetype": "text/x-python",
   "name": "python",
   "nbconvert_exporter": "python",
   "pygments_lexer": "ipython2",
   "version": "2.7.6"
  }
 },
 "nbformat": 4,
 "nbformat_minor": 0
}