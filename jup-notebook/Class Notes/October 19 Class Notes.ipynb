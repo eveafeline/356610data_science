{
 "cells": [
  {
   "cell_type": "markdown",
   "metadata": {
    "collapsed": true
   },
   "source": [
    "# October 19, 2017 Class Note\n",
    "\n",
    "### Outline\n",
    "- Audiodata\n",
    "- Linear Regression\n",
    "- Project\n",
    "- Next Session\n",
    "\n",
    "#### Linear Regression [https://en.wikipedia.org/wiki/Linear_regression]\n",
    "1. First question to ask is what line is the best line? What line do you want?\n",
    "2. x = abs(x diff) + abs(x diff) + abs(x diff)\n",
    "3. Loss Function : y = b + wx\n",
    "\n",
    "- Why are we trying to find the line?\n",
    "    - You can use the line to estimate other values\n",
    "\n",
    "#### Project\n",
    "1. Divide the dataset into two sets\n",
    "2. Divide one half of the dataset evenly between the group, make human rated values\n",
    "\n",
    "#### Collaborative Filtering\n",
    "Model Based Collaborative Filtering\n",
    "1. Bayesian networks\n",
    "2. Clustering\n",
    "3. Latent Factor Models\n",
    "4. Latent Semantic Analysis (LSA)\n",
    "5. Probabilistic LSA\n",
    "\n",
    "#### Latent Factor Models: Factor Analysis\n",
    "1. Factor Analysis describes variability among a large number of ovserved variables in terms"
   ]
  },
  {
   "cell_type": "markdown",
   "metadata": {},
   "source": [
    "We often make predictions in life based upon our past experience. For example, if for 35 hourses sold in a town in the lsat month, we known their sold prices and their features(bedrooms, bathrooms, ot size, living space, age, quality of construction, etc.), we may be able to predict sold price of another house that just came on for sale with some confidence. In this case, the data that we have is called training examples (in this example, we have 35 training examples).\n",
    "\n",
    "Let us assume we have m training examples [y, X], X = { x1, x2, x3, ... xn]. Here the variable y is dependent on a set of n independent features where, by wat of the example, y can be price of a house, and X represents its features such as square footage, lot size, number of bedrooms, number of bathrooms, age, quality of construction, etc. The problem of Linear Regression consists of finding a line that fits best to m points in the n-dimensional hyperspace which, in other words, means finding n+1 parameters w1, w2, w3, ... , wN and b given a set of m training exampls"
   ]
  },
  {
   "cell_type": "code",
   "execution_count": null,
   "metadata": {
    "collapsed": true
   },
   "outputs": [],
   "source": [
    "Hessian Matrix"
   ]
  },
  {
   "cell_type": "markdown",
   "metadata": {},
   "source": [
    "* Article : Forget Killer Robots - Bias Is the Real AI Danger [https://www.technologyreview.com/s/608986/forget-killer-robotsbias-is-the-real-ai-danger/]"
   ]
  }
 ],
 "metadata": {
  "kernelspec": {
   "display_name": "Python 3",
   "language": "python",
   "name": "python3"
  },
  "language_info": {
   "codemirror_mode": {
    "name": "ipython",
    "version": 3
   },
   "file_extension": ".py",
   "mimetype": "text/x-python",
   "name": "python",
   "nbconvert_exporter": "python",
   "pygments_lexer": "ipython3",
   "version": "3.6.2"
  }
 },
 "nbformat": 4,
 "nbformat_minor": 2
}
